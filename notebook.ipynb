{
 "cells": [
  {
   "cell_type": "code",
   "execution_count": 182,
   "metadata": {},
   "outputs": [],
   "source": [
    "import pandas as pd\n",
    "import numpy as np\n",
    "import matplotlib.pyplot as plt\n",
    "import seaborn as sns\n",
    "from sklearn.preprocessing import LabelEncoder, PolynomialFeatures\n",
    "from sklearn.model_selection import train_test_split\n",
    "from sklearn.linear_model import LinearRegression\n",
    "from sklearn.metrics import mean_squared_error, r2_score"
   ]
  },
  {
   "cell_type": "markdown",
   "metadata": {},
   "source": [
    "# import dataset"
   ]
  },
  {
   "cell_type": "code",
   "execution_count": 183,
   "metadata": {},
   "outputs": [],
   "source": [
    "data = pd.read_csv('2020_al.csv')"
   ]
  },
  {
   "cell_type": "code",
   "execution_count": 184,
   "metadata": {},
   "outputs": [
    {
     "data": {
      "text/plain": [
       "(337553, 19)"
      ]
     },
     "execution_count": 184,
     "metadata": {},
     "output_type": "execute_result"
    }
   ],
   "source": [
    "data.shape"
   ]
  },
  {
   "cell_type": "code",
   "execution_count": 185,
   "metadata": {},
   "outputs": [
    {
     "data": {
      "text/html": [
       "<div>\n",
       "<style scoped>\n",
       "    .dataframe tbody tr th:only-of-type {\n",
       "        vertical-align: middle;\n",
       "    }\n",
       "\n",
       "    .dataframe tbody tr th {\n",
       "        vertical-align: top;\n",
       "    }\n",
       "\n",
       "    .dataframe thead th {\n",
       "        text-align: right;\n",
       "    }\n",
       "</style>\n",
       "<table border=\"1\" class=\"dataframe\">\n",
       "  <thead>\n",
       "    <tr style=\"text-align: right;\">\n",
       "      <th></th>\n",
       "      <th>index</th>\n",
       "      <th>stream</th>\n",
       "      <th>Zscore</th>\n",
       "      <th>district_rank</th>\n",
       "      <th>island_rank</th>\n",
       "      <th>al_year</th>\n",
       "      <th>sub1</th>\n",
       "      <th>sub1_r</th>\n",
       "      <th>sub2</th>\n",
       "      <th>sub2_r</th>\n",
       "      <th>sub3</th>\n",
       "      <th>sub3_r</th>\n",
       "      <th>cgt_r</th>\n",
       "      <th>ge_r</th>\n",
       "      <th>syllabus</th>\n",
       "      <th>birth_day</th>\n",
       "      <th>birth_month</th>\n",
       "      <th>birth_year</th>\n",
       "      <th>gender</th>\n",
       "    </tr>\n",
       "  </thead>\n",
       "  <tbody>\n",
       "    <tr>\n",
       "      <th>0</th>\n",
       "      <td>0</td>\n",
       "      <td>ARTS</td>\n",
       "      <td>-.3550</td>\n",
       "      <td>4336 (NEW)</td>\n",
       "      <td>64994 (NEW)</td>\n",
       "      <td>2020</td>\n",
       "      <td>POLITICAL SCIENCE</td>\n",
       "      <td>S</td>\n",
       "      <td>DANCING(BHARATHA)</td>\n",
       "      <td>C</td>\n",
       "      <td>TAMIL</td>\n",
       "      <td>S</td>\n",
       "      <td>056</td>\n",
       "      <td>S</td>\n",
       "      <td>new</td>\n",
       "      <td>31</td>\n",
       "      <td>May</td>\n",
       "      <td>2001</td>\n",
       "      <td>female</td>\n",
       "    </tr>\n",
       "    <tr>\n",
       "      <th>1</th>\n",
       "      <td>1</td>\n",
       "      <td>ARTS</td>\n",
       "      <td>-.2648</td>\n",
       "      <td>4154 (NEW)</td>\n",
       "      <td>62338 (NEW)</td>\n",
       "      <td>2020</td>\n",
       "      <td>POLITICAL SCIENCE</td>\n",
       "      <td>S</td>\n",
       "      <td>CARNATIC MUSIC</td>\n",
       "      <td>C</td>\n",
       "      <td>TAMIL</td>\n",
       "      <td>C</td>\n",
       "      <td>032</td>\n",
       "      <td>C</td>\n",
       "      <td>new</td>\n",
       "      <td>13</td>\n",
       "      <td>January</td>\n",
       "      <td>2002</td>\n",
       "      <td>female</td>\n",
       "    </tr>\n",
       "    <tr>\n",
       "      <th>2</th>\n",
       "      <td>2</td>\n",
       "      <td>COMMERCE</td>\n",
       "      <td>-.4760</td>\n",
       "      <td>6910 (NEW)</td>\n",
       "      <td>37307 (NEW)</td>\n",
       "      <td>2020</td>\n",
       "      <td>ECONOMICS</td>\n",
       "      <td>S</td>\n",
       "      <td>BUSINESS STUDIES</td>\n",
       "      <td>S</td>\n",
       "      <td>ACCOUNTING</td>\n",
       "      <td>S</td>\n",
       "      <td>050</td>\n",
       "      <td>S</td>\n",
       "      <td>new</td>\n",
       "      <td>16</td>\n",
       "      <td>August</td>\n",
       "      <td>2001</td>\n",
       "      <td>female</td>\n",
       "    </tr>\n",
       "    <tr>\n",
       "      <th>3</th>\n",
       "      <td>3</td>\n",
       "      <td>COMMERCE</td>\n",
       "      <td>-.1012</td>\n",
       "      <td>5678 (NEW)</td>\n",
       "      <td>30449 (NEW)</td>\n",
       "      <td>2020</td>\n",
       "      <td>ECONOMICS</td>\n",
       "      <td>C</td>\n",
       "      <td>BUSINESS STUDIES</td>\n",
       "      <td>C</td>\n",
       "      <td>ACCOUNTING</td>\n",
       "      <td>S</td>\n",
       "      <td>034</td>\n",
       "      <td>S</td>\n",
       "      <td>new</td>\n",
       "      <td>16</td>\n",
       "      <td>August</td>\n",
       "      <td>2001</td>\n",
       "      <td>female</td>\n",
       "    </tr>\n",
       "    <tr>\n",
       "      <th>4</th>\n",
       "      <td>4</td>\n",
       "      <td>COMMERCE</td>\n",
       "      <td>.6014</td>\n",
       "      <td>3269 (NEW)</td>\n",
       "      <td>17010 (NEW)</td>\n",
       "      <td>2020</td>\n",
       "      <td>ECONOMICS</td>\n",
       "      <td>C</td>\n",
       "      <td>BUSINESS STUDIES</td>\n",
       "      <td>C</td>\n",
       "      <td>ACCOUNTING</td>\n",
       "      <td>B</td>\n",
       "      <td>036</td>\n",
       "      <td>S</td>\n",
       "      <td>new</td>\n",
       "      <td>7</td>\n",
       "      <td>August</td>\n",
       "      <td>2000</td>\n",
       "      <td>female</td>\n",
       "    </tr>\n",
       "  </tbody>\n",
       "</table>\n",
       "</div>"
      ],
      "text/plain": [
       "   index    stream  Zscore district_rank  island_rank  al_year  \\\n",
       "0      0      ARTS  -.3550    4336 (NEW)  64994 (NEW)     2020   \n",
       "1      1      ARTS  -.2648    4154 (NEW)  62338 (NEW)     2020   \n",
       "2      2  COMMERCE  -.4760    6910 (NEW)  37307 (NEW)     2020   \n",
       "3      3  COMMERCE  -.1012    5678 (NEW)  30449 (NEW)     2020   \n",
       "4      4  COMMERCE   .6014    3269 (NEW)  17010 (NEW)     2020   \n",
       "\n",
       "                sub1 sub1_r               sub2 sub2_r        sub3 sub3_r  \\\n",
       "0  POLITICAL SCIENCE      S  DANCING(BHARATHA)      C       TAMIL      S   \n",
       "1  POLITICAL SCIENCE      S     CARNATIC MUSIC      C       TAMIL      C   \n",
       "2          ECONOMICS      S   BUSINESS STUDIES      S  ACCOUNTING      S   \n",
       "3          ECONOMICS      C   BUSINESS STUDIES      C  ACCOUNTING      S   \n",
       "4          ECONOMICS      C   BUSINESS STUDIES      C  ACCOUNTING      B   \n",
       "\n",
       "  cgt_r ge_r syllabus birth_day birth_month birth_year  gender  \n",
       "0   056    S      new        31         May       2001  female  \n",
       "1   032    C      new        13     January       2002  female  \n",
       "2   050    S      new        16      August       2001  female  \n",
       "3   034    S      new        16      August       2001  female  \n",
       "4   036    S      new         7      August       2000  female  "
      ]
     },
     "execution_count": 185,
     "metadata": {},
     "output_type": "execute_result"
    }
   ],
   "source": [
    "data.head()"
   ]
  },
  {
   "cell_type": "code",
   "execution_count": 186,
   "metadata": {},
   "outputs": [
    {
     "name": "stdout",
     "output_type": "stream",
     "text": [
      "<class 'pandas.core.frame.DataFrame'>\n",
      "RangeIndex: 337553 entries, 0 to 337552\n",
      "Data columns (total 19 columns):\n",
      " #   Column         Non-Null Count   Dtype \n",
      "---  ------         --------------   ----- \n",
      " 0   index          337553 non-null  int64 \n",
      " 1   stream         337553 non-null  object\n",
      " 2   Zscore         337553 non-null  object\n",
      " 3   district_rank  337553 non-null  object\n",
      " 4   island_rank    337553 non-null  object\n",
      " 5   al_year        337553 non-null  int64 \n",
      " 6   sub1           337553 non-null  object\n",
      " 7   sub1_r         337553 non-null  object\n",
      " 8   sub2           337553 non-null  object\n",
      " 9   sub2_r         337553 non-null  object\n",
      " 10  sub3           337553 non-null  object\n",
      " 11  sub3_r         337553 non-null  object\n",
      " 12  cgt_r          337553 non-null  object\n",
      " 13  ge_r           337553 non-null  object\n",
      " 14  syllabus       337553 non-null  object\n",
      " 15  birth_day      337553 non-null  object\n",
      " 16  birth_month    337553 non-null  object\n",
      " 17  birth_year     337553 non-null  object\n",
      " 18  gender         336069 non-null  object\n",
      "dtypes: int64(2), object(17)\n",
      "memory usage: 48.9+ MB\n"
     ]
    }
   ],
   "source": [
    "data.info()"
   ]
  },
  {
   "cell_type": "code",
   "execution_count": 187,
   "metadata": {},
   "outputs": [
    {
     "data": {
      "text/plain": [
       "index               0\n",
       "stream              0\n",
       "Zscore              0\n",
       "district_rank       0\n",
       "island_rank         0\n",
       "al_year             0\n",
       "sub1                0\n",
       "sub1_r              0\n",
       "sub2                0\n",
       "sub2_r              0\n",
       "sub3                0\n",
       "sub3_r              0\n",
       "cgt_r               0\n",
       "ge_r                0\n",
       "syllabus            0\n",
       "birth_day           0\n",
       "birth_month         0\n",
       "birth_year          0\n",
       "gender           1484\n",
       "dtype: int64"
      ]
     },
     "execution_count": 187,
     "metadata": {},
     "output_type": "execute_result"
    }
   ],
   "source": [
    "data.isnull().sum()"
   ]
  },
  {
   "cell_type": "code",
   "execution_count": 188,
   "metadata": {},
   "outputs": [],
   "source": [
    "data['gender'].fillna('Unknown', inplace=True)"
   ]
  },
  {
   "cell_type": "code",
   "execution_count": 189,
   "metadata": {},
   "outputs": [
    {
     "data": {
      "text/plain": [
       "index            0\n",
       "stream           0\n",
       "Zscore           0\n",
       "district_rank    0\n",
       "island_rank      0\n",
       "al_year          0\n",
       "sub1             0\n",
       "sub1_r           0\n",
       "sub2             0\n",
       "sub2_r           0\n",
       "sub3             0\n",
       "sub3_r           0\n",
       "cgt_r            0\n",
       "ge_r             0\n",
       "syllabus         0\n",
       "birth_day        0\n",
       "birth_month      0\n",
       "birth_year       0\n",
       "gender           0\n",
       "dtype: int64"
      ]
     },
     "execution_count": 189,
     "metadata": {},
     "output_type": "execute_result"
    }
   ],
   "source": [
    "data.isnull().sum()"
   ]
  },
  {
   "cell_type": "code",
   "execution_count": 190,
   "metadata": {},
   "outputs": [
    {
     "data": {
      "text/plain": [
       "array(['female', 'male', 'Unknown', 'Major error'], dtype=object)"
      ]
     },
     "execution_count": 190,
     "metadata": {},
     "output_type": "execute_result"
    }
   ],
   "source": [
    "data['gender'].unique()"
   ]
  },
  {
   "cell_type": "code",
   "execution_count": 191,
   "metadata": {},
   "outputs": [
    {
     "data": {
      "text/html": [
       "<div>\n",
       "<style scoped>\n",
       "    .dataframe tbody tr th:only-of-type {\n",
       "        vertical-align: middle;\n",
       "    }\n",
       "\n",
       "    .dataframe tbody tr th {\n",
       "        vertical-align: top;\n",
       "    }\n",
       "\n",
       "    .dataframe thead th {\n",
       "        text-align: right;\n",
       "    }\n",
       "</style>\n",
       "<table border=\"1\" class=\"dataframe\">\n",
       "  <thead>\n",
       "    <tr style=\"text-align: right;\">\n",
       "      <th></th>\n",
       "      <th>index</th>\n",
       "      <th>stream</th>\n",
       "      <th>Zscore</th>\n",
       "      <th>district_rank</th>\n",
       "      <th>island_rank</th>\n",
       "      <th>al_year</th>\n",
       "      <th>sub1</th>\n",
       "      <th>sub1_r</th>\n",
       "      <th>sub2</th>\n",
       "      <th>sub2_r</th>\n",
       "      <th>sub3</th>\n",
       "      <th>sub3_r</th>\n",
       "      <th>cgt_r</th>\n",
       "      <th>ge_r</th>\n",
       "      <th>syllabus</th>\n",
       "      <th>birth_day</th>\n",
       "      <th>birth_month</th>\n",
       "      <th>birth_year</th>\n",
       "      <th>gender</th>\n",
       "    </tr>\n",
       "  </thead>\n",
       "  <tbody>\n",
       "    <tr>\n",
       "      <th>0</th>\n",
       "      <td>0</td>\n",
       "      <td>ARTS</td>\n",
       "      <td>-.3550</td>\n",
       "      <td>4336 (NEW)</td>\n",
       "      <td>64994 (NEW)</td>\n",
       "      <td>2020</td>\n",
       "      <td>POLITICAL SCIENCE</td>\n",
       "      <td>S</td>\n",
       "      <td>DANCING(BHARATHA)</td>\n",
       "      <td>C</td>\n",
       "      <td>TAMIL</td>\n",
       "      <td>S</td>\n",
       "      <td>056</td>\n",
       "      <td>S</td>\n",
       "      <td>new</td>\n",
       "      <td>31</td>\n",
       "      <td>May</td>\n",
       "      <td>2001</td>\n",
       "      <td>female</td>\n",
       "    </tr>\n",
       "    <tr>\n",
       "      <th>1</th>\n",
       "      <td>1</td>\n",
       "      <td>ARTS</td>\n",
       "      <td>-.2648</td>\n",
       "      <td>4154 (NEW)</td>\n",
       "      <td>62338 (NEW)</td>\n",
       "      <td>2020</td>\n",
       "      <td>POLITICAL SCIENCE</td>\n",
       "      <td>S</td>\n",
       "      <td>CARNATIC MUSIC</td>\n",
       "      <td>C</td>\n",
       "      <td>TAMIL</td>\n",
       "      <td>C</td>\n",
       "      <td>032</td>\n",
       "      <td>C</td>\n",
       "      <td>new</td>\n",
       "      <td>13</td>\n",
       "      <td>January</td>\n",
       "      <td>2002</td>\n",
       "      <td>female</td>\n",
       "    </tr>\n",
       "    <tr>\n",
       "      <th>2</th>\n",
       "      <td>2</td>\n",
       "      <td>COMMERCE</td>\n",
       "      <td>-.4760</td>\n",
       "      <td>6910 (NEW)</td>\n",
       "      <td>37307 (NEW)</td>\n",
       "      <td>2020</td>\n",
       "      <td>ECONOMICS</td>\n",
       "      <td>S</td>\n",
       "      <td>BUSINESS STUDIES</td>\n",
       "      <td>S</td>\n",
       "      <td>ACCOUNTING</td>\n",
       "      <td>S</td>\n",
       "      <td>050</td>\n",
       "      <td>S</td>\n",
       "      <td>new</td>\n",
       "      <td>16</td>\n",
       "      <td>August</td>\n",
       "      <td>2001</td>\n",
       "      <td>female</td>\n",
       "    </tr>\n",
       "    <tr>\n",
       "      <th>3</th>\n",
       "      <td>3</td>\n",
       "      <td>COMMERCE</td>\n",
       "      <td>-.1012</td>\n",
       "      <td>5678 (NEW)</td>\n",
       "      <td>30449 (NEW)</td>\n",
       "      <td>2020</td>\n",
       "      <td>ECONOMICS</td>\n",
       "      <td>C</td>\n",
       "      <td>BUSINESS STUDIES</td>\n",
       "      <td>C</td>\n",
       "      <td>ACCOUNTING</td>\n",
       "      <td>S</td>\n",
       "      <td>034</td>\n",
       "      <td>S</td>\n",
       "      <td>new</td>\n",
       "      <td>16</td>\n",
       "      <td>August</td>\n",
       "      <td>2001</td>\n",
       "      <td>female</td>\n",
       "    </tr>\n",
       "    <tr>\n",
       "      <th>4</th>\n",
       "      <td>4</td>\n",
       "      <td>COMMERCE</td>\n",
       "      <td>.6014</td>\n",
       "      <td>3269 (NEW)</td>\n",
       "      <td>17010 (NEW)</td>\n",
       "      <td>2020</td>\n",
       "      <td>ECONOMICS</td>\n",
       "      <td>C</td>\n",
       "      <td>BUSINESS STUDIES</td>\n",
       "      <td>C</td>\n",
       "      <td>ACCOUNTING</td>\n",
       "      <td>B</td>\n",
       "      <td>036</td>\n",
       "      <td>S</td>\n",
       "      <td>new</td>\n",
       "      <td>7</td>\n",
       "      <td>August</td>\n",
       "      <td>2000</td>\n",
       "      <td>female</td>\n",
       "    </tr>\n",
       "  </tbody>\n",
       "</table>\n",
       "</div>"
      ],
      "text/plain": [
       "   index    stream  Zscore district_rank  island_rank  al_year  \\\n",
       "0      0      ARTS  -.3550    4336 (NEW)  64994 (NEW)     2020   \n",
       "1      1      ARTS  -.2648    4154 (NEW)  62338 (NEW)     2020   \n",
       "2      2  COMMERCE  -.4760    6910 (NEW)  37307 (NEW)     2020   \n",
       "3      3  COMMERCE  -.1012    5678 (NEW)  30449 (NEW)     2020   \n",
       "4      4  COMMERCE   .6014    3269 (NEW)  17010 (NEW)     2020   \n",
       "\n",
       "                sub1 sub1_r               sub2 sub2_r        sub3 sub3_r  \\\n",
       "0  POLITICAL SCIENCE      S  DANCING(BHARATHA)      C       TAMIL      S   \n",
       "1  POLITICAL SCIENCE      S     CARNATIC MUSIC      C       TAMIL      C   \n",
       "2          ECONOMICS      S   BUSINESS STUDIES      S  ACCOUNTING      S   \n",
       "3          ECONOMICS      C   BUSINESS STUDIES      C  ACCOUNTING      S   \n",
       "4          ECONOMICS      C   BUSINESS STUDIES      C  ACCOUNTING      B   \n",
       "\n",
       "  cgt_r ge_r syllabus birth_day birth_month birth_year  gender  \n",
       "0   056    S      new        31         May       2001  female  \n",
       "1   032    C      new        13     January       2002  female  \n",
       "2   050    S      new        16      August       2001  female  \n",
       "3   034    S      new        16      August       2001  female  \n",
       "4   036    S      new         7      August       2000  female  "
      ]
     },
     "execution_count": 191,
     "metadata": {},
     "output_type": "execute_result"
    }
   ],
   "source": [
    "data.head()"
   ]
  },
  {
   "cell_type": "code",
   "execution_count": 192,
   "metadata": {},
   "outputs": [],
   "source": [
    "data= data.drop(columns=['index', 'al_year', 'birth_day', 'birth_month', 'birth_year','island_rank', 'district_rank', 'cgt_r', 'ge_r' ])"
   ]
  },
  {
   "cell_type": "code",
   "execution_count": 193,
   "metadata": {},
   "outputs": [
    {
     "data": {
      "text/html": [
       "<div>\n",
       "<style scoped>\n",
       "    .dataframe tbody tr th:only-of-type {\n",
       "        vertical-align: middle;\n",
       "    }\n",
       "\n",
       "    .dataframe tbody tr th {\n",
       "        vertical-align: top;\n",
       "    }\n",
       "\n",
       "    .dataframe thead th {\n",
       "        text-align: right;\n",
       "    }\n",
       "</style>\n",
       "<table border=\"1\" class=\"dataframe\">\n",
       "  <thead>\n",
       "    <tr style=\"text-align: right;\">\n",
       "      <th></th>\n",
       "      <th>stream</th>\n",
       "      <th>Zscore</th>\n",
       "      <th>sub1</th>\n",
       "      <th>sub1_r</th>\n",
       "      <th>sub2</th>\n",
       "      <th>sub2_r</th>\n",
       "      <th>sub3</th>\n",
       "      <th>sub3_r</th>\n",
       "      <th>syllabus</th>\n",
       "      <th>gender</th>\n",
       "    </tr>\n",
       "  </thead>\n",
       "  <tbody>\n",
       "    <tr>\n",
       "      <th>0</th>\n",
       "      <td>ARTS</td>\n",
       "      <td>-.3550</td>\n",
       "      <td>POLITICAL SCIENCE</td>\n",
       "      <td>S</td>\n",
       "      <td>DANCING(BHARATHA)</td>\n",
       "      <td>C</td>\n",
       "      <td>TAMIL</td>\n",
       "      <td>S</td>\n",
       "      <td>new</td>\n",
       "      <td>female</td>\n",
       "    </tr>\n",
       "    <tr>\n",
       "      <th>1</th>\n",
       "      <td>ARTS</td>\n",
       "      <td>-.2648</td>\n",
       "      <td>POLITICAL SCIENCE</td>\n",
       "      <td>S</td>\n",
       "      <td>CARNATIC MUSIC</td>\n",
       "      <td>C</td>\n",
       "      <td>TAMIL</td>\n",
       "      <td>C</td>\n",
       "      <td>new</td>\n",
       "      <td>female</td>\n",
       "    </tr>\n",
       "    <tr>\n",
       "      <th>2</th>\n",
       "      <td>COMMERCE</td>\n",
       "      <td>-.4760</td>\n",
       "      <td>ECONOMICS</td>\n",
       "      <td>S</td>\n",
       "      <td>BUSINESS STUDIES</td>\n",
       "      <td>S</td>\n",
       "      <td>ACCOUNTING</td>\n",
       "      <td>S</td>\n",
       "      <td>new</td>\n",
       "      <td>female</td>\n",
       "    </tr>\n",
       "    <tr>\n",
       "      <th>3</th>\n",
       "      <td>COMMERCE</td>\n",
       "      <td>-.1012</td>\n",
       "      <td>ECONOMICS</td>\n",
       "      <td>C</td>\n",
       "      <td>BUSINESS STUDIES</td>\n",
       "      <td>C</td>\n",
       "      <td>ACCOUNTING</td>\n",
       "      <td>S</td>\n",
       "      <td>new</td>\n",
       "      <td>female</td>\n",
       "    </tr>\n",
       "    <tr>\n",
       "      <th>4</th>\n",
       "      <td>COMMERCE</td>\n",
       "      <td>.6014</td>\n",
       "      <td>ECONOMICS</td>\n",
       "      <td>C</td>\n",
       "      <td>BUSINESS STUDIES</td>\n",
       "      <td>C</td>\n",
       "      <td>ACCOUNTING</td>\n",
       "      <td>B</td>\n",
       "      <td>new</td>\n",
       "      <td>female</td>\n",
       "    </tr>\n",
       "  </tbody>\n",
       "</table>\n",
       "</div>"
      ],
      "text/plain": [
       "     stream  Zscore               sub1 sub1_r               sub2 sub2_r  \\\n",
       "0      ARTS  -.3550  POLITICAL SCIENCE      S  DANCING(BHARATHA)      C   \n",
       "1      ARTS  -.2648  POLITICAL SCIENCE      S     CARNATIC MUSIC      C   \n",
       "2  COMMERCE  -.4760          ECONOMICS      S   BUSINESS STUDIES      S   \n",
       "3  COMMERCE  -.1012          ECONOMICS      C   BUSINESS STUDIES      C   \n",
       "4  COMMERCE   .6014          ECONOMICS      C   BUSINESS STUDIES      C   \n",
       "\n",
       "         sub3 sub3_r syllabus  gender  \n",
       "0       TAMIL      S      new  female  \n",
       "1       TAMIL      C      new  female  \n",
       "2  ACCOUNTING      S      new  female  \n",
       "3  ACCOUNTING      S      new  female  \n",
       "4  ACCOUNTING      B      new  female  "
      ]
     },
     "execution_count": 193,
     "metadata": {},
     "output_type": "execute_result"
    }
   ],
   "source": [
    "data.head()"
   ]
  },
  {
   "cell_type": "code",
   "execution_count": 194,
   "metadata": {},
   "outputs": [
    {
     "data": {
      "text/plain": [
       "(337553, 10)"
      ]
     },
     "execution_count": 194,
     "metadata": {},
     "output_type": "execute_result"
    }
   ],
   "source": [
    "data.shape"
   ]
  },
  {
   "cell_type": "code",
   "execution_count": 195,
   "metadata": {},
   "outputs": [],
   "source": [
    "cols = ['stream', 'sub1', 'sub1_r', 'sub2', 'sub2_r', 'sub3', 'sub3_r', 'syllabus', 'gender']\n",
    "\n",
    "label_encoders = {col: LabelEncoder() for col in cols}\n",
    "\n",
    "for col in cols:\n",
    "    data[col] = label_encoders[col].fit_transform(data[col])"
   ]
  },
  {
   "cell_type": "code",
   "execution_count": 196,
   "metadata": {},
   "outputs": [
    {
     "data": {
      "text/html": [
       "<div>\n",
       "<style scoped>\n",
       "    .dataframe tbody tr th:only-of-type {\n",
       "        vertical-align: middle;\n",
       "    }\n",
       "\n",
       "    .dataframe tbody tr th {\n",
       "        vertical-align: top;\n",
       "    }\n",
       "\n",
       "    .dataframe thead th {\n",
       "        text-align: right;\n",
       "    }\n",
       "</style>\n",
       "<table border=\"1\" class=\"dataframe\">\n",
       "  <thead>\n",
       "    <tr style=\"text-align: right;\">\n",
       "      <th></th>\n",
       "      <th>stream</th>\n",
       "      <th>Zscore</th>\n",
       "      <th>sub1</th>\n",
       "      <th>sub1_r</th>\n",
       "      <th>sub2</th>\n",
       "      <th>sub2_r</th>\n",
       "      <th>sub3</th>\n",
       "      <th>sub3_r</th>\n",
       "      <th>syllabus</th>\n",
       "      <th>gender</th>\n",
       "    </tr>\n",
       "  </thead>\n",
       "  <tbody>\n",
       "    <tr>\n",
       "      <th>0</th>\n",
       "      <td>1</td>\n",
       "      <td>-.3550</td>\n",
       "      <td>47</td>\n",
       "      <td>5</td>\n",
       "      <td>20</td>\n",
       "      <td>3</td>\n",
       "      <td>58</td>\n",
       "      <td>6</td>\n",
       "      <td>0</td>\n",
       "      <td>2</td>\n",
       "    </tr>\n",
       "    <tr>\n",
       "      <th>1</th>\n",
       "      <td>1</td>\n",
       "      <td>-.2648</td>\n",
       "      <td>47</td>\n",
       "      <td>5</td>\n",
       "      <td>12</td>\n",
       "      <td>3</td>\n",
       "      <td>58</td>\n",
       "      <td>4</td>\n",
       "      <td>0</td>\n",
       "      <td>2</td>\n",
       "    </tr>\n",
       "    <tr>\n",
       "      <th>2</th>\n",
       "      <td>4</td>\n",
       "      <td>-.4760</td>\n",
       "      <td>21</td>\n",
       "      <td>5</td>\n",
       "      <td>11</td>\n",
       "      <td>5</td>\n",
       "      <td>0</td>\n",
       "      <td>6</td>\n",
       "      <td>0</td>\n",
       "      <td>2</td>\n",
       "    </tr>\n",
       "    <tr>\n",
       "      <th>3</th>\n",
       "      <td>4</td>\n",
       "      <td>-.1012</td>\n",
       "      <td>21</td>\n",
       "      <td>3</td>\n",
       "      <td>11</td>\n",
       "      <td>3</td>\n",
       "      <td>0</td>\n",
       "      <td>6</td>\n",
       "      <td>0</td>\n",
       "      <td>2</td>\n",
       "    </tr>\n",
       "    <tr>\n",
       "      <th>4</th>\n",
       "      <td>4</td>\n",
       "      <td>.6014</td>\n",
       "      <td>21</td>\n",
       "      <td>3</td>\n",
       "      <td>11</td>\n",
       "      <td>3</td>\n",
       "      <td>0</td>\n",
       "      <td>3</td>\n",
       "      <td>0</td>\n",
       "      <td>2</td>\n",
       "    </tr>\n",
       "  </tbody>\n",
       "</table>\n",
       "</div>"
      ],
      "text/plain": [
       "   stream  Zscore  sub1  sub1_r  sub2  sub2_r  sub3  sub3_r  syllabus  gender\n",
       "0       1  -.3550    47       5    20       3    58       6         0       2\n",
       "1       1  -.2648    47       5    12       3    58       4         0       2\n",
       "2       4  -.4760    21       5    11       5     0       6         0       2\n",
       "3       4  -.1012    21       3    11       3     0       6         0       2\n",
       "4       4   .6014    21       3    11       3     0       3         0       2"
      ]
     },
     "execution_count": 196,
     "metadata": {},
     "output_type": "execute_result"
    }
   ],
   "source": [
    "data.head()"
   ]
  },
  {
   "cell_type": "code",
   "execution_count": 197,
   "metadata": {},
   "outputs": [],
   "source": [
    "data[\"Zscore\"] = pd.to_numeric(data['Zscore'], errors='coerce') #coerce will introduce null values for non numeric data in the columns"
   ]
  },
  {
   "cell_type": "code",
   "execution_count": 198,
   "metadata": {},
   "outputs": [
    {
     "data": {
      "text/plain": [
       "stream           0\n",
       "Zscore      105249\n",
       "sub1             0\n",
       "sub1_r           0\n",
       "sub2             0\n",
       "sub2_r           0\n",
       "sub3             0\n",
       "sub3_r           0\n",
       "syllabus         0\n",
       "gender           0\n",
       "dtype: int64"
      ]
     },
     "execution_count": 198,
     "metadata": {},
     "output_type": "execute_result"
    }
   ],
   "source": [
    "data.isnull().sum()"
   ]
  },
  {
   "cell_type": "markdown",
   "metadata": {},
   "source": [
    "# Anslysis"
   ]
  },
  {
   "cell_type": "code",
   "execution_count": 199,
   "metadata": {},
   "outputs": [
    {
     "data": {
      "image/png": "[encoded data removed]",
      "text/plain": [
       "<Figure size 576x360 with 1 Axes>"
      ]
     },
     "metadata": {
      "needs_background": "light"
     },
     "output_type": "display_data"
    }
   ],
   "source": [
    "plt.figure(figsize=(8, 5))\n",
    "sns.histplot(data['Zscore'], kde=True, bins=30, color='blue')\n",
    "plt.title('Zscore Distribution')\n",
    "plt.xlabel('Zscore')\n",
    "plt.ylabel('Frequency')\n",
    "plt.show()"
   ]
  },
  {
   "cell_type": "code",
   "execution_count": 200,
   "metadata": {},
   "outputs": [
    {
     "data": {
      "image/png": "[encoded data removed]",
      "text/plain": [
       "<Figure size 720x432 with 2 Axes>"
      ]
     },
     "metadata": {
      "needs_background": "light"
     },
     "output_type": "display_data"
    }
   ],
   "source": [
    "plt.figure(figsize=(10, 6))\n",
    "m_data = data[['Zscore','sub1', 'sub1_r', 'sub2', 'sub2_r', 'sub3', 'sub3_r', 'stream','syllabus', 'gender']]\n",
    "sns.heatmap(m_data.corr(), annot=True, cmap='coolwarm', fmt='.2f', square=True)\n",
    "plt.title('heatmap')\n",
    "plt.show()"
   ]
  },
  {
   "cell_type": "code",
   "execution_count": 201,
   "metadata": {},
   "outputs": [
    {
     "data": {
      "text/plain": [
       "(array([0, 1, 2, 3, 4, 5, 6, 7]),\n",
       " [Text(0, 0, '0'),\n",
       "  Text(1, 0, '1'),\n",
       "  Text(2, 0, '4'),\n",
       "  Text(3, 0, '2'),\n",
       "  Text(4, 0, '7'),\n",
       "  Text(5, 0, '5'),\n",
       "  Text(6, 0, '3'),\n",
       "  Text(7, 0, '6')])"
      ]
     },
     "execution_count": 201,
     "metadata": {},
     "output_type": "execute_result"
    },
    {
     "data": {
      "image/png": "[encoded data removed]",
      "text/plain": [
       "<Figure size 720x432 with 1 Axes>"
      ]
     },
     "metadata": {
      "needs_background": "light"
     },
     "output_type": "display_data"
    }
   ],
   "source": [
    "plt.figure(figsize=(10, 6))\n",
    "sns.countplot(x='stream', data=data, palette='viridis', order=data['stream'].value_counts().index)\n",
    "plt.xticks(rotation=45)"
   ]
  },
  {
   "cell_type": "code",
   "execution_count": 202,
   "metadata": {},
   "outputs": [
    {
     "data": {
      "text/html": [
       "<div>\n",
       "<style scoped>\n",
       "    .dataframe tbody tr th:only-of-type {\n",
       "        vertical-align: middle;\n",
       "    }\n",
       "\n",
       "    .dataframe tbody tr th {\n",
       "        vertical-align: top;\n",
       "    }\n",
       "\n",
       "    .dataframe thead th {\n",
       "        text-align: right;\n",
       "    }\n",
       "</style>\n",
       "<table border=\"1\" class=\"dataframe\">\n",
       "  <thead>\n",
       "    <tr style=\"text-align: right;\">\n",
       "      <th></th>\n",
       "      <th>stream</th>\n",
       "      <th>Zscore</th>\n",
       "      <th>sub1</th>\n",
       "      <th>sub1_r</th>\n",
       "      <th>sub2</th>\n",
       "      <th>sub2_r</th>\n",
       "      <th>sub3</th>\n",
       "      <th>sub3_r</th>\n",
       "      <th>syllabus</th>\n",
       "      <th>gender</th>\n",
       "    </tr>\n",
       "  </thead>\n",
       "  <tbody>\n",
       "    <tr>\n",
       "      <th>0</th>\n",
       "      <td>1</td>\n",
       "      <td>-0.3550</td>\n",
       "      <td>47</td>\n",
       "      <td>5</td>\n",
       "      <td>20</td>\n",
       "      <td>3</td>\n",
       "      <td>58</td>\n",
       "      <td>6</td>\n",
       "      <td>0</td>\n",
       "      <td>2</td>\n",
       "    </tr>\n",
       "    <tr>\n",
       "      <th>1</th>\n",
       "      <td>1</td>\n",
       "      <td>-0.2648</td>\n",
       "      <td>47</td>\n",
       "      <td>5</td>\n",
       "      <td>12</td>\n",
       "      <td>3</td>\n",
       "      <td>58</td>\n",
       "      <td>4</td>\n",
       "      <td>0</td>\n",
       "      <td>2</td>\n",
       "    </tr>\n",
       "    <tr>\n",
       "      <th>2</th>\n",
       "      <td>4</td>\n",
       "      <td>-0.4760</td>\n",
       "      <td>21</td>\n",
       "      <td>5</td>\n",
       "      <td>11</td>\n",
       "      <td>5</td>\n",
       "      <td>0</td>\n",
       "      <td>6</td>\n",
       "      <td>0</td>\n",
       "      <td>2</td>\n",
       "    </tr>\n",
       "    <tr>\n",
       "      <th>3</th>\n",
       "      <td>4</td>\n",
       "      <td>-0.1012</td>\n",
       "      <td>21</td>\n",
       "      <td>3</td>\n",
       "      <td>11</td>\n",
       "      <td>3</td>\n",
       "      <td>0</td>\n",
       "      <td>6</td>\n",
       "      <td>0</td>\n",
       "      <td>2</td>\n",
       "    </tr>\n",
       "    <tr>\n",
       "      <th>4</th>\n",
       "      <td>4</td>\n",
       "      <td>0.6014</td>\n",
       "      <td>21</td>\n",
       "      <td>3</td>\n",
       "      <td>11</td>\n",
       "      <td>3</td>\n",
       "      <td>0</td>\n",
       "      <td>3</td>\n",
       "      <td>0</td>\n",
       "      <td>2</td>\n",
       "    </tr>\n",
       "  </tbody>\n",
       "</table>\n",
       "</div>"
      ],
      "text/plain": [
       "   stream  Zscore  sub1  sub1_r  sub2  sub2_r  sub3  sub3_r  syllabus  gender\n",
       "0       1 -0.3550    47       5    20       3    58       6         0       2\n",
       "1       1 -0.2648    47       5    12       3    58       4         0       2\n",
       "2       4 -0.4760    21       5    11       5     0       6         0       2\n",
       "3       4 -0.1012    21       3    11       3     0       6         0       2\n",
       "4       4  0.6014    21       3    11       3     0       3         0       2"
      ]
     },
     "execution_count": 202,
     "metadata": {},
     "output_type": "execute_result"
    }
   ],
   "source": [
    "data.head()"
   ]
  },
  {
   "cell_type": "code",
   "execution_count": 203,
   "metadata": {},
   "outputs": [
    {
     "name": "stdout",
     "output_type": "stream",
     "text": [
      "<class 'pandas.core.frame.DataFrame'>\n",
      "RangeIndex: 337553 entries, 0 to 337552\n",
      "Data columns (total 10 columns):\n",
      " #   Column    Non-Null Count   Dtype  \n",
      "---  ------    --------------   -----  \n",
      " 0   stream    337553 non-null  int32  \n",
      " 1   Zscore    232304 non-null  float64\n",
      " 2   sub1      337553 non-null  int32  \n",
      " 3   sub1_r    337553 non-null  int32  \n",
      " 4   sub2      337553 non-null  int32  \n",
      " 5   sub2_r    337553 non-null  int32  \n",
      " 6   sub3      337553 non-null  int32  \n",
      " 7   sub3_r    337553 non-null  int32  \n",
      " 8   syllabus  337553 non-null  int32  \n",
      " 9   gender    337553 non-null  int32  \n",
      "dtypes: float64(1), int32(9)\n",
      "memory usage: 14.2 MB\n"
     ]
    }
   ],
   "source": [
    "data.info()"
   ]
  },
  {
   "cell_type": "code",
   "execution_count": 204,
   "metadata": {},
   "outputs": [],
   "source": [
    "data['Zscore'].fillna(data['Zscore'].mean(), inplace=True)"
   ]
  },
  {
   "cell_type": "code",
   "execution_count": 205,
   "metadata": {},
   "outputs": [],
   "source": [
    "x = data.drop(columns=['Zscore'])\n",
    "y = data['Zscore']"
   ]
  },
  {
   "cell_type": "code",
   "execution_count": 206,
   "metadata": {},
   "outputs": [
    {
     "data": {
      "text/html": [
       "<div>\n",
       "<style scoped>\n",
       "    .dataframe tbody tr th:only-of-type {\n",
       "        vertical-align: middle;\n",
       "    }\n",
       "\n",
       "    .dataframe tbody tr th {\n",
       "        vertical-align: top;\n",
       "    }\n",
       "\n",
       "    .dataframe thead th {\n",
       "        text-align: right;\n",
       "    }\n",
       "</style>\n",
       "<table border=\"1\" class=\"dataframe\">\n",
       "  <thead>\n",
       "    <tr style=\"text-align: right;\">\n",
       "      <th></th>\n",
       "      <th>stream</th>\n",
       "      <th>sub1</th>\n",
       "      <th>sub1_r</th>\n",
       "      <th>sub2</th>\n",
       "      <th>sub2_r</th>\n",
       "      <th>sub3</th>\n",
       "      <th>sub3_r</th>\n",
       "      <th>syllabus</th>\n",
       "      <th>gender</th>\n",
       "    </tr>\n",
       "  </thead>\n",
       "  <tbody>\n",
       "    <tr>\n",
       "      <th>0</th>\n",
       "      <td>1</td>\n",
       "      <td>47</td>\n",
       "      <td>5</td>\n",
       "      <td>20</td>\n",
       "      <td>3</td>\n",
       "      <td>58</td>\n",
       "      <td>6</td>\n",
       "      <td>0</td>\n",
       "      <td>2</td>\n",
       "    </tr>\n",
       "    <tr>\n",
       "      <th>1</th>\n",
       "      <td>1</td>\n",
       "      <td>47</td>\n",
       "      <td>5</td>\n",
       "      <td>12</td>\n",
       "      <td>3</td>\n",
       "      <td>58</td>\n",
       "      <td>4</td>\n",
       "      <td>0</td>\n",
       "      <td>2</td>\n",
       "    </tr>\n",
       "    <tr>\n",
       "      <th>2</th>\n",
       "      <td>4</td>\n",
       "      <td>21</td>\n",
       "      <td>5</td>\n",
       "      <td>11</td>\n",
       "      <td>5</td>\n",
       "      <td>0</td>\n",
       "      <td>6</td>\n",
       "      <td>0</td>\n",
       "      <td>2</td>\n",
       "    </tr>\n",
       "    <tr>\n",
       "      <th>3</th>\n",
       "      <td>4</td>\n",
       "      <td>21</td>\n",
       "      <td>3</td>\n",
       "      <td>11</td>\n",
       "      <td>3</td>\n",
       "      <td>0</td>\n",
       "      <td>6</td>\n",
       "      <td>0</td>\n",
       "      <td>2</td>\n",
       "    </tr>\n",
       "    <tr>\n",
       "      <th>4</th>\n",
       "      <td>4</td>\n",
       "      <td>21</td>\n",
       "      <td>3</td>\n",
       "      <td>11</td>\n",
       "      <td>3</td>\n",
       "      <td>0</td>\n",
       "      <td>3</td>\n",
       "      <td>0</td>\n",
       "      <td>2</td>\n",
       "    </tr>\n",
       "  </tbody>\n",
       "</table>\n",
       "</div>"
      ],
      "text/plain": [
       "   stream  sub1  sub1_r  sub2  sub2_r  sub3  sub3_r  syllabus  gender\n",
       "0       1    47       5    20       3    58       6         0       2\n",
       "1       1    47       5    12       3    58       4         0       2\n",
       "2       4    21       5    11       5     0       6         0       2\n",
       "3       4    21       3    11       3     0       6         0       2\n",
       "4       4    21       3    11       3     0       3         0       2"
      ]
     },
     "execution_count": 206,
     "metadata": {},
     "output_type": "execute_result"
    }
   ],
   "source": [
    "x.head()"
   ]
  },
  {
   "cell_type": "code",
   "execution_count": 207,
   "metadata": {},
   "outputs": [
    {
     "name": "stdout",
     "output_type": "stream",
     "text": [
      "<class 'pandas.core.frame.DataFrame'>\n",
      "RangeIndex: 337553 entries, 0 to 337552\n",
      "Data columns (total 9 columns):\n",
      " #   Column    Non-Null Count   Dtype\n",
      "---  ------    --------------   -----\n",
      " 0   stream    337553 non-null  int32\n",
      " 1   sub1      337553 non-null  int32\n",
      " 2   sub1_r    337553 non-null  int32\n",
      " 3   sub2      337553 non-null  int32\n",
      " 4   sub2_r    337553 non-null  int32\n",
      " 5   sub3      337553 non-null  int32\n",
      " 6   sub3_r    337553 non-null  int32\n",
      " 7   syllabus  337553 non-null  int32\n",
      " 8   gender    337553 non-null  int32\n",
      "dtypes: int32(9)\n",
      "memory usage: 11.6 MB\n"
     ]
    }
   ],
   "source": [
    "x.info()"
   ]
  },
  {
   "cell_type": "code",
   "execution_count": 208,
   "metadata": {},
   "outputs": [
    {
     "name": "stdout",
     "output_type": "stream",
     "text": [
      "<class 'pandas.core.series.Series'>\n",
      "RangeIndex: 337553 entries, 0 to 337552\n",
      "Series name: Zscore\n",
      "Non-Null Count   Dtype  \n",
      "--------------   -----  \n",
      "337553 non-null  float64\n",
      "dtypes: float64(1)\n",
      "memory usage: 2.6 MB\n"
     ]
    }
   ],
   "source": [
    "y.info()"
   ]
  },
  {
   "cell_type": "code",
   "execution_count": 209,
   "metadata": {},
   "outputs": [],
   "source": [
    "x_train, x_test, y_train, y_test = train_test_split(x, y, test_size=0.3, random_state=42)"
   ]
  },
  {
   "cell_type": "code",
   "execution_count": 210,
   "metadata": {},
   "outputs": [
    {
     "data": {
      "text/plain": [
       "((337553, 9), (337553,))"
      ]
     },
     "execution_count": 210,
     "metadata": {},
     "output_type": "execute_result"
    }
   ],
   "source": [
    "x.shape, y.shape"
   ]
  },
  {
   "cell_type": "code",
   "execution_count": 211,
   "metadata": {},
   "outputs": [
    {
     "data": {
      "text/plain": [
       "((236287, 9), (236287,), (101266, 9), (101266,))"
      ]
     },
     "execution_count": 211,
     "metadata": {},
     "output_type": "execute_result"
    }
   ],
   "source": [
    "x_train.shape, y_train.shape, x_test.shape, y_test.shape"
   ]
  },
  {
   "cell_type": "code",
   "execution_count": 212,
   "metadata": {},
   "outputs": [],
   "source": [
    "model = LinearRegression()"
   ]
  },
  {
   "cell_type": "code",
   "execution_count": 213,
   "metadata": {},
   "outputs": [
    {
     "data": {
      "text/plain": [
       "LinearRegression()"
      ]
     },
     "execution_count": 213,
     "metadata": {},
     "output_type": "execute_result"
    }
   ],
   "source": [
    "model.fit(x_train, y_train)"
   ]
  },
  {
   "cell_type": "code",
   "execution_count": 214,
   "metadata": {},
   "outputs": [
    {
     "name": "stdout",
     "output_type": "stream",
     "text": [
      "Training Accuracy: 0.60\n",
      "Testing Accuracy: 0.61\n"
     ]
    }
   ],
   "source": [
    "acc1 = model.score(x_train, y_train)\n",
    "acc2 = model.score(x_test, y_test)\n",
    "print(f\"Training Accuracy: {acc1:.2f}\")\n",
    "print(f\"Testing Accuracy: {acc2:.2f}\")"
   ]
  },
  {
   "cell_type": "code",
   "execution_count": 215,
   "metadata": {},
   "outputs": [],
   "source": [
    "from sklearn.preprocessing import StandardScaler"
   ]
  },
  {
   "cell_type": "code",
   "execution_count": 216,
   "metadata": {},
   "outputs": [],
   "source": [
    "scaler = StandardScaler()"
   ]
  },
  {
   "cell_type": "code",
   "execution_count": 217,
   "metadata": {},
   "outputs": [],
   "source": [
    "x_train_scaled = scaler.fit_transform(x_train) #fit_transform is used to scale the training data\n",
    "x_test_scaled = scaler.transform(x_test) #transform is used to scale the testing data"
   ]
  },
  {
   "cell_type": "code",
   "execution_count": 218,
   "metadata": {},
   "outputs": [
    {
     "name": "stderr",
     "output_type": "stream",
     "text": [
      "c:\\Users\\Ishan\\anaconda3\\lib\\site-packages\\sklearn\\base.py:450: UserWarning: X does not have valid feature names, but LinearRegression was fitted with feature names\n",
      "  warnings.warn(\n"
     ]
    },
    {
     "data": {
      "text/plain": [
       "array([1.04316496, 1.66106449, 1.0129492 , ..., 1.99334239, 1.28858704,\n",
       "       1.1062999 ])"
      ]
     },
     "execution_count": 218,
     "metadata": {},
     "output_type": "execute_result"
    }
   ],
   "source": [
    "yhat = model.predict(x_test_scaled)\n",
    "yhat"
   ]
  },
  {
   "cell_type": "code",
   "execution_count": 219,
   "metadata": {},
   "outputs": [
    {
     "data": {
      "text/plain": [
       "-1.9197309978563344"
      ]
     },
     "execution_count": 219,
     "metadata": {},
     "output_type": "execute_result"
    }
   ],
   "source": [
    "r2_score(y_test, yhat)"
   ]
  },
  {
   "cell_type": "code",
   "execution_count": 220,
   "metadata": {},
   "outputs": [],
   "source": [
    "model2 = LinearRegression()"
   ]
  },
  {
   "cell_type": "code",
   "execution_count": 221,
   "metadata": {},
   "outputs": [
    {
     "data": {
      "text/plain": [
       "LinearRegression()"
      ]
     },
     "execution_count": 221,
     "metadata": {},
     "output_type": "execute_result"
    }
   ],
   "source": [
    "model2.fit(x_train_scaled, y_train)"
   ]
  },
  {
   "cell_type": "code",
   "execution_count": 222,
   "metadata": {},
   "outputs": [
    {
     "name": "stdout",
     "output_type": "stream",
     "text": [
      "Training Accuracy: 0.60\n",
      "Testing Accuracy: 0.61\n"
     ]
    }
   ],
   "source": [
    "acc3 = model2.score(x_train_scaled, y_train)\n",
    "acc4 = model2.score(x_test_scaled, y_test)\n",
    "\n",
    "print(f\"Training Accuracy: {acc3:.2f}\")\n",
    "print(f\"Testing Accuracy: {acc4:.2f}\")"
   ]
  },
  {
   "cell_type": "code",
   "execution_count": 232,
   "metadata": {},
   "outputs": [],
   "source": [
    "poly_features = PolynomialFeatures(degree=2, include_bias=False)"
   ]
  },
  {
   "cell_type": "code",
   "execution_count": 233,
   "metadata": {},
   "outputs": [],
   "source": [
    "poly_x_train = poly_features.fit_transform(x_train_scaled)"
   ]
  },
  {
   "cell_type": "code",
   "execution_count": 234,
   "metadata": {},
   "outputs": [
    {
     "name": "stderr",
     "output_type": "stream",
     "text": [
      "c:\\Users\\Ishan\\anaconda3\\lib\\site-packages\\sklearn\\utils\\deprecation.py:87: FutureWarning: Function get_feature_names is deprecated; get_feature_names is deprecated in 1.0 and will be removed in 1.2. Please use get_feature_names_out instead.\n",
      "  warnings.warn(msg, category=FutureWarning)\n"
     ]
    },
    {
     "data": {
      "text/plain": [
       "['x0',\n",
       " 'x1',\n",
       " 'x2',\n",
       " 'x3',\n",
       " 'x4',\n",
       " 'x5',\n",
       " 'x6',\n",
       " 'x7',\n",
       " 'x8',\n",
       " 'x0^2',\n",
       " 'x0 x1',\n",
       " 'x0 x2',\n",
       " 'x0 x3',\n",
       " 'x0 x4',\n",
       " 'x0 x5',\n",
       " 'x0 x6',\n",
       " 'x0 x7',\n",
       " 'x0 x8',\n",
       " 'x1^2',\n",
       " 'x1 x2',\n",
       " 'x1 x3',\n",
       " 'x1 x4',\n",
       " 'x1 x5',\n",
       " 'x1 x6',\n",
       " 'x1 x7',\n",
       " 'x1 x8',\n",
       " 'x2^2',\n",
       " 'x2 x3',\n",
       " 'x2 x4',\n",
       " 'x2 x5',\n",
       " 'x2 x6',\n",
       " 'x2 x7',\n",
       " 'x2 x8',\n",
       " 'x3^2',\n",
       " 'x3 x4',\n",
       " 'x3 x5',\n",
       " 'x3 x6',\n",
       " 'x3 x7',\n",
       " 'x3 x8',\n",
       " 'x4^2',\n",
       " 'x4 x5',\n",
       " 'x4 x6',\n",
       " 'x4 x7',\n",
       " 'x4 x8',\n",
       " 'x5^2',\n",
       " 'x5 x6',\n",
       " 'x5 x7',\n",
       " 'x5 x8',\n",
       " 'x6^2',\n",
       " 'x6 x7',\n",
       " 'x6 x8',\n",
       " 'x7^2',\n",
       " 'x7 x8',\n",
       " 'x8^2']"
      ]
     },
     "execution_count": 234,
     "metadata": {},
     "output_type": "execute_result"
    }
   ],
   "source": [
    "poly_features.get_feature_names()"
   ]
  },
  {
   "cell_type": "code",
   "execution_count": 235,
   "metadata": {},
   "outputs": [
    {
     "data": {
      "text/plain": [
       "LinearRegression()"
      ]
     },
     "execution_count": 235,
     "metadata": {},
     "output_type": "execute_result"
    }
   ],
   "source": [
    "model = LinearRegression()\n",
    "model.fit(poly_x_train, y_train)"
   ]
  },
  {
   "cell_type": "code",
   "execution_count": 236,
   "metadata": {},
   "outputs": [],
   "source": [
    "poly_x_test = poly_features.fit_transform(x_test_scaled)"
   ]
  },
  {
   "cell_type": "code",
   "execution_count": 237,
   "metadata": {},
   "outputs": [
    {
     "name": "stdout",
     "output_type": "stream",
     "text": [
      "Training Accuracy: 0.74\n",
      "Testing Accuracy: 0.74\n"
     ]
    }
   ],
   "source": [
    "acc0 = model.score(poly_x_train, y_train)\n",
    "acc9 = model.score(poly_x_test, y_test)\n",
    "\n",
    "print(f\"Training Accuracy: {acc0:.2f}\")\n",
    "print(f\"Testing Accuracy: {acc9:.2f}\")"
   ]
  },
  {
   "cell_type": "code",
   "execution_count": 238,
   "metadata": {},
   "outputs": [],
   "source": [
    "import pickle \n",
    "# Save the trained model as a pickle string.\n",
    "with open('model.pkl', 'wb') as model_pkl:\n",
    "    pickle.dump(model2, model_pkl)"
   ]
  },
  {
   "cell_type": "code",
   "execution_count": 239,
   "metadata": {},
   "outputs": [
    {
     "data": {
      "text/plain": [
       "{'ACCOUNTING': 0,\n",
       " 'AGRICULTURAL SCIENCE': 1,\n",
       " 'AGRO TECHNOLOGY': 2,\n",
       " 'ART': 3,\n",
       " 'BIO SYSTEMS TECHNOLOGY': 4,\n",
       " 'BIO-RESOURCE TECHNOLOGY': 5,\n",
       " 'BIOLOGY': 6,\n",
       " 'BUDDHISM': 7,\n",
       " 'BUDDHIST CIVILIZATION': 8,\n",
       " 'BUSINESS STATISTICS': 9,\n",
       " 'BUSINESS STUDIES': 10,\n",
       " 'CARNATIC MUSIC': 11,\n",
       " 'CHEMISTRY': 12,\n",
       " 'CHRISTIAN CIVILIZATION': 13,\n",
       " 'CHRISTIANITY': 14,\n",
       " 'CIVIL TECHNOLOGY': 15,\n",
       " 'COMBINED MATHEMATICS': 16,\n",
       " 'COMMUNICATION & MEDIA STUDIES': 17,\n",
       " 'DANCING(BHARATHA)': 18,\n",
       " 'DANCING(INDIGENOUS)': 19,\n",
       " 'DRAMA AND THEATRE (SINHALA)': 20,\n",
       " 'ECONOMICS': 21,\n",
       " 'ELECTRICAL,ELECTRONIC AND IT': 22,\n",
       " 'ENGINEERING TECHNOLOGY': 23,\n",
       " 'ENGLISH': 24,\n",
       " 'FOOD TECHNOLOGY': 25,\n",
       " 'GEOGRAPHY': 26,\n",
       " 'GREEK & ROMAN CIVILIZATION': 27,\n",
       " 'HIGHER MATHEMATICS': 28,\n",
       " 'HINDU CIVILIZATION': 29,\n",
       " 'HINDUISM': 30,\n",
       " 'HISTORY OF EUROPE': 31,\n",
       " 'HISTORY OF INDIA': 32,\n",
       " 'HISTORY OF MODERN WORLD': 33,\n",
       " 'HISTORY OF SRI LANKA & EUROPE': 34,\n",
       " 'HISTORY OF SRI LANKA & INDIA': 35,\n",
       " 'HISTORY OF SRI LANKA & MODERN WORLD': 36,\n",
       " 'HOME ECONOMICS': 37,\n",
       " 'INFORMATION & COMMUNICATION TECHNOLOGY': 38,\n",
       " 'ISLAM': 39,\n",
       " 'ISLAMIC CIVILIZATION': 40,\n",
       " 'LOGIC & SCIENTIFIC METHOD': 41,\n",
       " 'MATHEMATICS': 42,\n",
       " 'MECHANICAL TECHNOLOGY': 43,\n",
       " 'ORIENTAL MUSIC': 44,\n",
       " 'PALI': 45,\n",
       " 'PHYSICS': 46,\n",
       " 'POLITICAL SCIENCE': 47,\n",
       " 'SINHALA': 48,\n",
       " 'TAMIL': 49,\n",
       " 'WESTERN MUSIC': 50}"
      ]
     },
     "execution_count": 239,
     "metadata": {},
     "output_type": "execute_result"
    }
   ],
   "source": [
    "{label: code for label, code in zip(label_encoders['sub1'].classes_, range(len(label_encoders['sub1'].classes_)))}"
   ]
  },
  {
   "cell_type": "code",
   "execution_count": 241,
   "metadata": {},
   "outputs": [
    {
     "data": {
      "text/html": [
       "<div>\n",
       "<style scoped>\n",
       "    .dataframe tbody tr th:only-of-type {\n",
       "        vertical-align: middle;\n",
       "    }\n",
       "\n",
       "    .dataframe tbody tr th {\n",
       "        vertical-align: top;\n",
       "    }\n",
       "\n",
       "    .dataframe thead th {\n",
       "        text-align: right;\n",
       "    }\n",
       "</style>\n",
       "<table border=\"1\" class=\"dataframe\">\n",
       "  <thead>\n",
       "    <tr style=\"text-align: right;\">\n",
       "      <th></th>\n",
       "      <th>stream</th>\n",
       "      <th>sub1</th>\n",
       "      <th>sub1_r</th>\n",
       "      <th>sub2</th>\n",
       "      <th>sub2_r</th>\n",
       "      <th>sub3</th>\n",
       "      <th>sub3_r</th>\n",
       "      <th>syllabus</th>\n",
       "      <th>gender</th>\n",
       "    </tr>\n",
       "  </thead>\n",
       "  <tbody>\n",
       "    <tr>\n",
       "      <th>0</th>\n",
       "      <td>1</td>\n",
       "      <td>47</td>\n",
       "      <td>5</td>\n",
       "      <td>20</td>\n",
       "      <td>3</td>\n",
       "      <td>58</td>\n",
       "      <td>6</td>\n",
       "      <td>0</td>\n",
       "      <td>2</td>\n",
       "    </tr>\n",
       "    <tr>\n",
       "      <th>1</th>\n",
       "      <td>1</td>\n",
       "      <td>47</td>\n",
       "      <td>5</td>\n",
       "      <td>12</td>\n",
       "      <td>3</td>\n",
       "      <td>58</td>\n",
       "      <td>4</td>\n",
       "      <td>0</td>\n",
       "      <td>2</td>\n",
       "    </tr>\n",
       "    <tr>\n",
       "      <th>2</th>\n",
       "      <td>4</td>\n",
       "      <td>21</td>\n",
       "      <td>5</td>\n",
       "      <td>11</td>\n",
       "      <td>5</td>\n",
       "      <td>0</td>\n",
       "      <td>6</td>\n",
       "      <td>0</td>\n",
       "      <td>2</td>\n",
       "    </tr>\n",
       "    <tr>\n",
       "      <th>3</th>\n",
       "      <td>4</td>\n",
       "      <td>21</td>\n",
       "      <td>3</td>\n",
       "      <td>11</td>\n",
       "      <td>3</td>\n",
       "      <td>0</td>\n",
       "      <td>6</td>\n",
       "      <td>0</td>\n",
       "      <td>2</td>\n",
       "    </tr>\n",
       "    <tr>\n",
       "      <th>4</th>\n",
       "      <td>4</td>\n",
       "      <td>21</td>\n",
       "      <td>3</td>\n",
       "      <td>11</td>\n",
       "      <td>3</td>\n",
       "      <td>0</td>\n",
       "      <td>3</td>\n",
       "      <td>0</td>\n",
       "      <td>2</td>\n",
       "    </tr>\n",
       "  </tbody>\n",
       "</table>\n",
       "</div>"
      ],
      "text/plain": [
       "   stream  sub1  sub1_r  sub2  sub2_r  sub3  sub3_r  syllabus  gender\n",
       "0       1    47       5    20       3    58       6         0       2\n",
       "1       1    47       5    12       3    58       4         0       2\n",
       "2       4    21       5    11       5     0       6         0       2\n",
       "3       4    21       3    11       3     0       6         0       2\n",
       "4       4    21       3    11       3     0       3         0       2"
      ]
     },
     "execution_count": 241,
     "metadata": {},
     "output_type": "execute_result"
    }
   ],
   "source": [
    "x.head(\n",
    ")"
   ]
  },
  {
   "cell_type": "code",
   "execution_count": 242,
   "metadata": {},
   "outputs": [
    {
     "data": {
      "text/plain": [
       "{'-': 0,\n",
       " 'ARTS': 1,\n",
       " 'BIOLOGICAL SCIENCE': 2,\n",
       " 'BIOSYSTEMS TECHNOLOGY': 3,\n",
       " 'COMMERCE': 4,\n",
       " 'ENGINEERING TECHNOLOGY': 5,\n",
       " 'NON': 6,\n",
       " 'PHYSICAL SCIENCE': 7}"
      ]
     },
     "execution_count": 242,
     "metadata": {},
     "output_type": "execute_result"
    }
   ],
   "source": [
    "{label: code for label, code in zip(label_encoders['stream'].classes_, range(len(label_encoders['stream'].classes_)))}"
   ]
  },
  {
   "cell_type": "code",
   "execution_count": 243,
   "metadata": {},
   "outputs": [
    {
     "data": {
      "text/plain": [
       "{'new': 0, 'old': 1}"
      ]
     },
     "execution_count": 243,
     "metadata": {},
     "output_type": "execute_result"
    }
   ],
   "source": [
    "{label: code for label, code in zip(label_encoders['syllabus'].classes_, range(len(label_encoders['syllabus'].classes_)))}"
   ]
  },
  {
   "cell_type": "code",
   "execution_count": 244,
   "metadata": {},
   "outputs": [
    {
     "data": {
      "text/plain": [
       "{'Major error': 0, 'Unknown': 1, 'female': 2, 'male': 3}"
      ]
     },
     "execution_count": 244,
     "metadata": {},
     "output_type": "execute_result"
    }
   ],
   "source": [
    "{label: code for label, code in zip(label_encoders['gender'].classes_, range(len(label_encoders['gender'].classes_)))}"
   ]
  },
  {
   "cell_type": "code",
   "execution_count": 245,
   "metadata": {},
   "outputs": [
    {
     "data": {
      "text/plain": [
       "{'A': 0, 'Absent': 1, 'B': 2, 'C': 3, 'F': 4, 'S': 5, 'Withheld': 6}"
      ]
     },
     "execution_count": 245,
     "metadata": {},
     "output_type": "execute_result"
    }
   ],
   "source": [
    "{label: code for label, code in zip(label_encoders['sub1_r'].classes_, range(len(label_encoders['sub1_r'].classes_)))}"
   ]
  },
  {
   "cell_type": "code",
   "execution_count": 246,
   "metadata": {},
   "outputs": [
    {
     "data": {
      "text/html": [
       "<div>\n",
       "<style scoped>\n",
       "    .dataframe tbody tr th:only-of-type {\n",
       "        vertical-align: middle;\n",
       "    }\n",
       "\n",
       "    .dataframe tbody tr th {\n",
       "        vertical-align: top;\n",
       "    }\n",
       "\n",
       "    .dataframe thead th {\n",
       "        text-align: right;\n",
       "    }\n",
       "</style>\n",
       "<table border=\"1\" class=\"dataframe\">\n",
       "  <thead>\n",
       "    <tr style=\"text-align: right;\">\n",
       "      <th></th>\n",
       "      <th>stream</th>\n",
       "      <th>Zscore</th>\n",
       "      <th>sub1</th>\n",
       "      <th>sub1_r</th>\n",
       "      <th>sub2</th>\n",
       "      <th>sub2_r</th>\n",
       "      <th>sub3</th>\n",
       "      <th>sub3_r</th>\n",
       "      <th>syllabus</th>\n",
       "      <th>gender</th>\n",
       "    </tr>\n",
       "  </thead>\n",
       "  <tbody>\n",
       "    <tr>\n",
       "      <th>0</th>\n",
       "      <td>1</td>\n",
       "      <td>-0.3550</td>\n",
       "      <td>47</td>\n",
       "      <td>5</td>\n",
       "      <td>20</td>\n",
       "      <td>3</td>\n",
       "      <td>58</td>\n",
       "      <td>6</td>\n",
       "      <td>0</td>\n",
       "      <td>2</td>\n",
       "    </tr>\n",
       "    <tr>\n",
       "      <th>1</th>\n",
       "      <td>1</td>\n",
       "      <td>-0.2648</td>\n",
       "      <td>47</td>\n",
       "      <td>5</td>\n",
       "      <td>12</td>\n",
       "      <td>3</td>\n",
       "      <td>58</td>\n",
       "      <td>4</td>\n",
       "      <td>0</td>\n",
       "      <td>2</td>\n",
       "    </tr>\n",
       "    <tr>\n",
       "      <th>2</th>\n",
       "      <td>4</td>\n",
       "      <td>-0.4760</td>\n",
       "      <td>21</td>\n",
       "      <td>5</td>\n",
       "      <td>11</td>\n",
       "      <td>5</td>\n",
       "      <td>0</td>\n",
       "      <td>6</td>\n",
       "      <td>0</td>\n",
       "      <td>2</td>\n",
       "    </tr>\n",
       "    <tr>\n",
       "      <th>3</th>\n",
       "      <td>4</td>\n",
       "      <td>-0.1012</td>\n",
       "      <td>21</td>\n",
       "      <td>3</td>\n",
       "      <td>11</td>\n",
       "      <td>3</td>\n",
       "      <td>0</td>\n",
       "      <td>6</td>\n",
       "      <td>0</td>\n",
       "      <td>2</td>\n",
       "    </tr>\n",
       "    <tr>\n",
       "      <th>4</th>\n",
       "      <td>4</td>\n",
       "      <td>0.6014</td>\n",
       "      <td>21</td>\n",
       "      <td>3</td>\n",
       "      <td>11</td>\n",
       "      <td>3</td>\n",
       "      <td>0</td>\n",
       "      <td>3</td>\n",
       "      <td>0</td>\n",
       "      <td>2</td>\n",
       "    </tr>\n",
       "  </tbody>\n",
       "</table>\n",
       "</div>"
      ],
      "text/plain": [
       "   stream  Zscore  sub1  sub1_r  sub2  sub2_r  sub3  sub3_r  syllabus  gender\n",
       "0       1 -0.3550    47       5    20       3    58       6         0       2\n",
       "1       1 -0.2648    47       5    12       3    58       4         0       2\n",
       "2       4 -0.4760    21       5    11       5     0       6         0       2\n",
       "3       4 -0.1012    21       3    11       3     0       6         0       2\n",
       "4       4  0.6014    21       3    11       3     0       3         0       2"
      ]
     },
     "execution_count": 246,
     "metadata": {},
     "output_type": "execute_result"
    }
   ],
   "source": [
    "data.head()"
   ]
  },
  {
   "cell_type": "code",
   "execution_count": null,
   "metadata": {},
   "outputs": [],
   "source": []
  }
 ],
 "metadata": {
  "kernelspec": {
   "display_name": "base",
   "language": "python",
   "name": "python3"
  },
  "language_info": {
   "codemirror_mode": {
    "name": "ipython",
    "version": 3
   },
   "file_extension": ".py",
   "mimetype": "text/x-python",
   "name": "python",
   "nbconvert_exporter": "python",
   "pygments_lexer": "ipython3",
   "version": "3.9.12"
  }
 },
 "nbformat": 4,
 "nbformat_minor": 2
}
